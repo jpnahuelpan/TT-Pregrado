{
 "cells": [
  {
   "cell_type": "code",
   "execution_count": 1,
   "metadata": {},
   "outputs": [
    {
     "data": {
      "text/plain": [
       "user_id          450\n",
       "user_location    191\n",
       "created_at       450\n",
       "tweet_text       450\n",
       "dtype: int64"
      ]
     },
     "execution_count": 1,
     "metadata": {},
     "output_type": "execute_result"
    }
   ],
   "source": [
    "import pandas as pd\n",
    "df = pd.read_csv(\"../data/raw/RipleyChile_2022-12-27.csv\")\n",
    "df.count()"
   ]
  },
  {
   "cell_type": "code",
   "execution_count": 2,
   "metadata": {},
   "outputs": [
    {
     "data": {
      "text/plain": [
       "user_id          412\n",
       "user_location    175\n",
       "created_at       412\n",
       "tweet_text       412\n",
       "dtype: int64"
      ]
     },
     "execution_count": 2,
     "metadata": {},
     "output_type": "execute_result"
    }
   ],
   "source": [
    "# eliminación de textos repetidos.\n",
    "df.drop_duplicates(subset=['tweet_text'], inplace=True)\n",
    "df.count()"
   ]
  },
  {
   "cell_type": "code",
   "execution_count": 3,
   "metadata": {},
   "outputs": [
    {
     "data": {
      "text/plain": [
       "'  OJO, así vienen los productos de ripley… uno por mejor comprando los regalos de navidad en su tienda y los productos vienen en estas condiciones '"
      ]
     },
     "execution_count": 3,
     "metadata": {},
     "output_type": "execute_result"
    }
   ],
   "source": [
    "import re\n",
    "text = \"@RipleyChile #ojopollo OJO, así vienen los productos de ripley… uno por mejor comprando los regalos de navidad en su tienda y los productos vienen en estas condiciones https://t.co/GqljLK8BAO\"\n",
    "text = re.sub(r'https?:\\/\\/\\S*', '', text, flags=re.MULTILINE) #elimina el link t.co\n",
    "text = re.sub(r'@\\S*', '', text) # eliminación de cuentas\n",
    "text = re.sub(r'#\\S*', '', text) # eliminación hashtags\n",
    "text"
   ]
  },
  {
   "cell_type": "code",
   "execution_count": 4,
   "metadata": {},
   "outputs": [
    {
     "data": {
      "text/html": [
       "<div>\n",
       "<style scoped>\n",
       "    .dataframe tbody tr th:only-of-type {\n",
       "        vertical-align: middle;\n",
       "    }\n",
       "\n",
       "    .dataframe tbody tr th {\n",
       "        vertical-align: top;\n",
       "    }\n",
       "\n",
       "    .dataframe thead th {\n",
       "        text-align: right;\n",
       "    }\n",
       "</style>\n",
       "<table border=\"1\" class=\"dataframe\">\n",
       "  <thead>\n",
       "    <tr style=\"text-align: right;\">\n",
       "      <th></th>\n",
       "      <th>user_id</th>\n",
       "      <th>user_location</th>\n",
       "      <th>created_at</th>\n",
       "      <th>tweet_text</th>\n",
       "      <th>@usernames_in_tweet</th>\n",
       "      <th>hashtags_in_tweet</th>\n",
       "    </tr>\n",
       "  </thead>\n",
       "  <tbody>\n",
       "    <tr>\n",
       "      <th>0</th>\n",
       "      <td>1071459919306592256</td>\n",
       "      <td>NaN</td>\n",
       "      <td>2022-12-27 15:31:31+00:00</td>\n",
       "      <td>buenas tardes ?como recupero una boleta si no...</td>\n",
       "      <td>[RipleyChile]</td>\n",
       "      <td>NaN</td>\n",
       "    </tr>\n",
       "    <tr>\n",
       "      <th>1</th>\n",
       "      <td>851487655875489793</td>\n",
       "      <td>NaN</td>\n",
       "      <td>2022-12-27 15:30:05+00:00</td>\n",
       "      <td>no han respondido mis consultas</td>\n",
       "      <td>[RipleyChile]</td>\n",
       "      <td>NaN</td>\n",
       "    </tr>\n",
       "  </tbody>\n",
       "</table>\n",
       "</div>"
      ],
      "text/plain": [
       "               user_id user_location                 created_at  \\\n",
       "0  1071459919306592256           NaN  2022-12-27 15:31:31+00:00   \n",
       "1   851487655875489793           NaN  2022-12-27 15:30:05+00:00   \n",
       "\n",
       "                                          tweet_text @usernames_in_tweet  \\\n",
       "0   buenas tardes ?como recupero una boleta si no...       [RipleyChile]   \n",
       "1                    no han respondido mis consultas       [RipleyChile]   \n",
       "\n",
       "   hashtags_in_tweet  \n",
       "0                NaN  \n",
       "1                NaN  "
      ]
     },
     "execution_count": 4,
     "metadata": {},
     "output_type": "execute_result"
    }
   ],
   "source": [
    "# eliminar los nick o username de las tiendad en los textos.\n",
    "import re\n",
    "from cleantext import clean\n",
    "dic = {\n",
    "    \"@usernames\":[],\n",
    "    \"hashtags\": [],\n",
    "}\n",
    "for row in df.iterrows():\n",
    "    in_text = row[1][\"tweet_text\"]\n",
    "    if re.findall(r\"@(\\w+)\", in_text):\n",
    "        dic[\"@usernames\"].append(re.findall(r\"@(\\w+)\", in_text))\n",
    "    else:\n",
    "        dic[\"@usernames\"].append(float(\"nan\"))\n",
    "    if re.findall(r\"#(\\W+)\", in_text):\n",
    "        dic[\"hashtags\"].append(re.findall(r\"#(\\W+)\", in_text))\n",
    "    else:\n",
    "        dic[\"hashtags\"].append(float(\"nan\"))\n",
    "    out_text = in_text.lower() # se convienten las letras mayusculas a minusculas\n",
    "    out_text = clean(out_text, no_emoji=True)\n",
    "    out_text = re.sub(r'https?:\\/\\/\\S*', '', out_text, flags=re.MULTILINE) #elimina el link t.co\n",
    "    out_text = re.sub(r'@\\S*', '', out_text) # eliminación de cuentas\n",
    "    out_text = re.sub(r'#\\S*', '', out_text) # eliminación hashtags\n",
    "    df[\"tweet_text\"].replace([in_text], out_text, inplace=True)\n",
    "df[\"@usernames_in_tweet\"] = dic[\"@usernames\"]\n",
    "df[\"hashtags_in_tweet\"] = dic[\"hashtags\"]\n",
    "df.head(2)"
   ]
  },
  {
   "cell_type": "code",
   "execution_count": 5,
   "metadata": {},
   "outputs": [
    {
     "name": "stderr",
     "output_type": "stream",
     "text": [
      "/home/unknownsystem/Public/tt-pregrado/env_prueba/lib/python3.8/site-packages/tqdm/auto.py:22: TqdmWarning: IProgress not found. Please update jupyter and ipywidgets. See https://ipywidgets.readthedocs.io/en/stable/user_install.html\n",
      "  from .autonotebook import tqdm as notebook_tqdm\n"
     ]
    },
    {
     "data": {
      "text/html": [
       "<div>\n",
       "<style scoped>\n",
       "    .dataframe tbody tr th:only-of-type {\n",
       "        vertical-align: middle;\n",
       "    }\n",
       "\n",
       "    .dataframe tbody tr th {\n",
       "        vertical-align: top;\n",
       "    }\n",
       "\n",
       "    .dataframe thead th {\n",
       "        text-align: right;\n",
       "    }\n",
       "</style>\n",
       "<table border=\"1\" class=\"dataframe\">\n",
       "  <thead>\n",
       "    <tr style=\"text-align: right;\">\n",
       "      <th></th>\n",
       "      <th>user_id</th>\n",
       "      <th>user_location</th>\n",
       "      <th>created_at</th>\n",
       "      <th>tweet_text</th>\n",
       "      <th>@usernames_in_tweet</th>\n",
       "      <th>hashtags_in_tweet</th>\n",
       "      <th>sadness</th>\n",
       "      <th>joy</th>\n",
       "      <th>anger</th>\n",
       "      <th>surprise</th>\n",
       "      <th>disgust</th>\n",
       "      <th>fear</th>\n",
       "      <th>others</th>\n",
       "    </tr>\n",
       "  </thead>\n",
       "  <tbody>\n",
       "    <tr>\n",
       "      <th>0</th>\n",
       "      <td>1071459919306592256</td>\n",
       "      <td>NaN</td>\n",
       "      <td>2022-12-27 15:31:31+00:00</td>\n",
       "      <td>buenas tardes ?como recupero una boleta si no...</td>\n",
       "      <td>[RipleyChile]</td>\n",
       "      <td>NaN</td>\n",
       "      <td>0.142813</td>\n",
       "      <td>0.037846</td>\n",
       "      <td>0.090811</td>\n",
       "      <td>0.047647</td>\n",
       "      <td>0.014096</td>\n",
       "      <td>0.014696</td>\n",
       "      <td>0.652092</td>\n",
       "    </tr>\n",
       "    <tr>\n",
       "      <th>1</th>\n",
       "      <td>851487655875489793</td>\n",
       "      <td>NaN</td>\n",
       "      <td>2022-12-27 15:30:05+00:00</td>\n",
       "      <td>no han respondido mis consultas</td>\n",
       "      <td>[RipleyChile]</td>\n",
       "      <td>NaN</td>\n",
       "      <td>0.125220</td>\n",
       "      <td>0.080856</td>\n",
       "      <td>0.144959</td>\n",
       "      <td>0.061590</td>\n",
       "      <td>0.033295</td>\n",
       "      <td>0.026135</td>\n",
       "      <td>0.527947</td>\n",
       "    </tr>\n",
       "    <tr>\n",
       "      <th>2</th>\n",
       "      <td>97794104</td>\n",
       "      <td>Concepción</td>\n",
       "      <td>2022-12-27 15:07:57+00:00</td>\n",
       "      <td>el dia 19 de diciembre realice una compra en ...</td>\n",
       "      <td>[RipleyChile]</td>\n",
       "      <td>NaN</td>\n",
       "      <td>0.107856</td>\n",
       "      <td>0.040425</td>\n",
       "      <td>0.051369</td>\n",
       "      <td>0.047153</td>\n",
       "      <td>0.013840</td>\n",
       "      <td>0.016875</td>\n",
       "      <td>0.722484</td>\n",
       "    </tr>\n",
       "  </tbody>\n",
       "</table>\n",
       "</div>"
      ],
      "text/plain": [
       "               user_id user_location                 created_at  \\\n",
       "0  1071459919306592256           NaN  2022-12-27 15:31:31+00:00   \n",
       "1   851487655875489793           NaN  2022-12-27 15:30:05+00:00   \n",
       "2             97794104   Concepción   2022-12-27 15:07:57+00:00   \n",
       "\n",
       "                                          tweet_text @usernames_in_tweet  \\\n",
       "0   buenas tardes ?como recupero una boleta si no...       [RipleyChile]   \n",
       "1                    no han respondido mis consultas       [RipleyChile]   \n",
       "2   el dia 19 de diciembre realice una compra en ...       [RipleyChile]   \n",
       "\n",
       "   hashtags_in_tweet   sadness       joy     anger  surprise   disgust  \\\n",
       "0                NaN  0.142813  0.037846  0.090811  0.047647  0.014096   \n",
       "1                NaN  0.125220  0.080856  0.144959  0.061590  0.033295   \n",
       "2                NaN  0.107856  0.040425  0.051369  0.047153  0.013840   \n",
       "\n",
       "       fear    others  \n",
       "0  0.014696  0.652092  \n",
       "1  0.026135  0.527947  \n",
       "2  0.016875  0.722484  "
      ]
     },
     "execution_count": 5,
     "metadata": {},
     "output_type": "execute_result"
    }
   ],
   "source": [
    "from transformers import AutoModelForSequenceClassification\n",
    "from transformers import AutoTokenizer, AutoConfig\n",
    "import numpy as np\n",
    "from scipy.special import softmax\n",
    "\n",
    "model_path = \"daveni/twitter-xlm-roberta-emotion-es\"\n",
    "tokenizer = AutoTokenizer.from_pretrained(model_path )\n",
    "config = AutoConfig.from_pretrained(model_path )\n",
    "# PT\n",
    "model = AutoModelForSequenceClassification.from_pretrained(model_path)\n",
    "\n",
    "#df[list(config.id2label.values())]=0\n",
    "dic = {}\n",
    "for key in config.id2label.values():\n",
    "    dic[key] = []\n",
    "\n",
    "for row in df.iterrows():\n",
    "    text = row[1][\"tweet_text\"]\n",
    "    encoded_input = tokenizer(text, return_tensors='pt')\n",
    "    output = model(**encoded_input)\n",
    "    scores = output[0][0].detach().numpy()\n",
    "    scores = softmax(scores)\n",
    "\n",
    "    for key in config.id2label.keys():\n",
    "        dic[config.id2label[key]].append(scores[key])\n",
    "\n",
    "for key in config.id2label.values():\n",
    "    df[key] = dic[key]\n",
    "\n",
    "df.head(3)"
   ]
  },
  {
   "cell_type": "code",
   "execution_count": 7,
   "metadata": {},
   "outputs": [
    {
     "data": {
      "text/plain": [
       "{'label': 'anger', 'score': 0.4830705523490906}"
      ]
     },
     "execution_count": 7,
     "metadata": {},
     "output_type": "execute_result"
    }
   ],
   "source": [
    "from transformers import pipeline\n",
    "model_path = \"daveni/twitter-xlm-roberta-emotion-es\"\n",
    "emotion_analysis = pipeline(\"text-classification\", framework=\"pt\", model=model_path, tokenizer=model_path)\n",
    "emotion_analysis(\"Einstein dijo: Solo hay dos cosas infinitas, el universo y los pinches anuncios de bitcoin en Twitter. Paren ya carajo aaaaaaghhgggghhh me quiero murir\")[0]"
   ]
  }
 ],
 "metadata": {
  "kernelspec": {
   "display_name": "env_prueba",
   "language": "python",
   "name": "python3"
  },
  "language_info": {
   "codemirror_mode": {
    "name": "ipython",
    "version": 3
   },
   "file_extension": ".py",
   "mimetype": "text/x-python",
   "name": "python",
   "nbconvert_exporter": "python",
   "pygments_lexer": "ipython3",
   "version": "3.8.10 (default, Nov 14 2022, 12:59:47) \n[GCC 9.4.0]"
  },
  "orig_nbformat": 4,
  "vscode": {
   "interpreter": {
    "hash": "9d824f9c2c949a7afe3ece6b614b7100b38dee7b79719711caa7bd9aefd972e5"
   }
  }
 },
 "nbformat": 4,
 "nbformat_minor": 2
}
