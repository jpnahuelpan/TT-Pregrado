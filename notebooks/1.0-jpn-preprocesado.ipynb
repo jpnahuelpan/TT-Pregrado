{
 "cells": [
  {
   "attachments": {},
   "cell_type": "markdown",
   "metadata": {},
   "source": [
    "# Recolección de datos. "
   ]
  },
  {
   "cell_type": "code",
   "execution_count": null,
   "metadata": {},
   "outputs": [],
   "source": [
    "# importando modulos.\n",
    "import config\n",
    "import tweepy\n",
    "from src import Data\n",
    "auth = tweepy.OAuth1UserHandler(\n",
    "   config.API_KEY,\n",
    "   config.API_SECRET,\n",
    "   config.ACCESS_TOKEN,\n",
    "   config.ACCESS_TOKEN_SECRET,\n",
    ")\n",
    "api = tweepy.API(auth)\n",
    "tiendas = [\"ML_Chile\", \"FalabellaAyuda\"]\n",
    "# como raw data\n",
    "out_path = \"../data/raw/\"\n",
    "Data(api).get_tweets(tiendas, out_path)"
   ]
  },
  {
   "cell_type": "code",
   "execution_count": 1,
   "metadata": {},
   "outputs": [],
   "source": [
    "# limpieza de textos repetidos, clasificación de sentimientos.\n",
    "from cleantext import clean\n",
    "from src import Features\n",
    "raw_data_files = [\n",
    "    \"FalabellaAyuda_2022-12-27.csv\",\n",
    "    \"ML_Chile_2022-12-27.csv\",\n",
    "    \"RipleyChile_2022-12-27.csv\",\n",
    "    \"tiendas_paris_2022-12-27.csv\"\n",
    "]\n",
    "for file in raw_data_files:\n",
    "    Features.clean_texts(f\"../data/raw/{file}\", f\"../data/interim/{file}\")\n",
    "    Features.sentiment_clasificator(f\"../data/interim/{file}\", f\"../data/processed/{file}\")"
   ]
  }
 ],
 "metadata": {
  "kernelspec": {
   "display_name": "env",
   "language": "python",
   "name": "python3"
  },
  "language_info": {
   "codemirror_mode": {
    "name": "ipython",
    "version": 3
   },
   "file_extension": ".py",
   "mimetype": "text/x-python",
   "name": "python",
   "nbconvert_exporter": "python",
   "pygments_lexer": "ipython3",
   "version": "3.8.10"
  },
  "orig_nbformat": 4,
  "vscode": {
   "interpreter": {
    "hash": "e95f38e479709bf2e64305c06c60d84abc8c78a6dc11795e98ec1510042d1042"
   }
  }
 },
 "nbformat": 4,
 "nbformat_minor": 2
}
