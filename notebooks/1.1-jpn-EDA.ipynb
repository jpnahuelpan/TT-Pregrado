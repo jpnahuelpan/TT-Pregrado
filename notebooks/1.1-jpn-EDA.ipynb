{
 "cells": [
  {
   "cell_type": "code",
   "execution_count": 2,
   "metadata": {},
   "outputs": [],
   "source": [
    "import pandas as pd\n",
    "df_ml = pd.read_csv(\"../data/processed/ML_Chile_2022-12-27.csv\")\n",
    "df_f = pd.read_csv(\"../data/processed/FalabellaAyuda_2022-12-27.csv\")\n",
    "df_r = pd.read_csv(\"../data/processed/RipleyChile_2022-12-27.csv\")\n",
    "df_p = pd.read_csv(\"../data/processed/tiendas_paris_2022-12-27.csv\")\n",
    "df = {\n",
    "    \"ML\": df_ml,\n",
    "    \"Falabella\": df_f,\n",
    "    \"RipleyChile\": df_r,\n",
    "    \"Paris\": df_p,\n",
    "}"
   ]
  },
  {
   "cell_type": "code",
   "execution_count": 3,
   "metadata": {},
   "outputs": [
    {
     "name": "stdout",
     "output_type": "stream",
     "text": [
      "ML\n",
      "Falabella\n",
      "RipleyChile\n",
      "Paris\n"
     ]
    }
   ],
   "source": [
    "# eliminar nan\n",
    "for key, value in df.items():\n",
    "    print(key)\n",
    "    value.dropna(subset=[\"tweet_text\"], inplace=True)"
   ]
  },
  {
   "cell_type": "code",
   "execution_count": 4,
   "metadata": {},
   "outputs": [
    {
     "data": {
      "text/html": [
       "<div>\n",
       "<style scoped>\n",
       "    .dataframe tbody tr th:only-of-type {\n",
       "        vertical-align: middle;\n",
       "    }\n",
       "\n",
       "    .dataframe tbody tr th {\n",
       "        vertical-align: top;\n",
       "    }\n",
       "\n",
       "    .dataframe thead th {\n",
       "        text-align: right;\n",
       "    }\n",
       "</style>\n",
       "<table border=\"1\" class=\"dataframe\">\n",
       "  <thead>\n",
       "    <tr style=\"text-align: right;\">\n",
       "      <th></th>\n",
       "      <th>tienda</th>\n",
       "      <th>count</th>\n",
       "      <th>mean</th>\n",
       "      <th>std</th>\n",
       "      <th>multimode</th>\n",
       "      <th>max</th>\n",
       "      <th>min</th>\n",
       "      <th>quantiles</th>\n",
       "    </tr>\n",
       "  </thead>\n",
       "  <tbody>\n",
       "    <tr>\n",
       "      <th>0</th>\n",
       "      <td>ML</td>\n",
       "      <td>77</td>\n",
       "      <td>143.701299</td>\n",
       "      <td>76.886120</td>\n",
       "      <td>[122, 130, 236, 139, 113, 114, 152, 73]</td>\n",
       "      <td>280</td>\n",
       "      <td>12</td>\n",
       "      <td>[84.0, 139.0, 223.0]</td>\n",
       "    </tr>\n",
       "    <tr>\n",
       "      <th>1</th>\n",
       "      <td>Falabella</td>\n",
       "      <td>434</td>\n",
       "      <td>139.421659</td>\n",
       "      <td>75.698042</td>\n",
       "      <td>[113]</td>\n",
       "      <td>275</td>\n",
       "      <td>1</td>\n",
       "      <td>[79.0, 126.5, 208.25]</td>\n",
       "    </tr>\n",
       "    <tr>\n",
       "      <th>2</th>\n",
       "      <td>RipleyChile</td>\n",
       "      <td>403</td>\n",
       "      <td>127.017370</td>\n",
       "      <td>75.470413</td>\n",
       "      <td>[111]</td>\n",
       "      <td>278</td>\n",
       "      <td>5</td>\n",
       "      <td>[67.0, 116.0, 185.0]</td>\n",
       "    </tr>\n",
       "    <tr>\n",
       "      <th>3</th>\n",
       "      <td>Paris</td>\n",
       "      <td>362</td>\n",
       "      <td>129.825967</td>\n",
       "      <td>72.932444</td>\n",
       "      <td>[111, 137, 81, 222]</td>\n",
       "      <td>279</td>\n",
       "      <td>2</td>\n",
       "      <td>[72.5, 123.5, 188.0]</td>\n",
       "    </tr>\n",
       "  </tbody>\n",
       "</table>\n",
       "</div>"
      ],
      "text/plain": [
       "        tienda  count        mean        std  \\\n",
       "0           ML     77  143.701299  76.886120   \n",
       "1    Falabella    434  139.421659  75.698042   \n",
       "2  RipleyChile    403  127.017370  75.470413   \n",
       "3        Paris    362  129.825967  72.932444   \n",
       "\n",
       "                                 multimode  max  min              quantiles  \n",
       "0  [122, 130, 236, 139, 113, 114, 152, 73]  280   12   [84.0, 139.0, 223.0]  \n",
       "1                                    [113]  275    1  [79.0, 126.5, 208.25]  \n",
       "2                                    [111]  278    5   [67.0, 116.0, 185.0]  \n",
       "3                      [111, 137, 81, 222]  279    2   [72.5, 123.5, 188.0]  "
      ]
     },
     "execution_count": 4,
     "metadata": {},
     "output_type": "execute_result"
    }
   ],
   "source": [
    "# medición de la longitud de los microtextos.\n",
    "import statistics as stats\n",
    "resultado = {\n",
    "    \"tienda\": [],\n",
    "    \"count\": [],\n",
    "    \"mean\": [],\n",
    "    \"std\": [],\n",
    "    \"multimode\": [],\n",
    "    \"max\": [],\n",
    "    \"min\": [],\n",
    "    \"quantiles\": [],\n",
    "}\n",
    "text_length = []\n",
    "for key, value in df.items():\n",
    "    for row in value.iterrows():\n",
    "        text_length.append(row[1][3].__len__())\n",
    "    resultado[\"tienda\"].append(key)\n",
    "    resultado[\"count\"].append(text_length.__len__())\n",
    "    resultado[\"mean\"].append(stats.mean(text_length))\n",
    "    resultado[\"std\"].append(stats.stdev(text_length))\n",
    "    resultado[\"multimode\"].append(stats.multimode(text_length))\n",
    "    resultado[\"max\"].append(max(text_length))\n",
    "    resultado[\"min\"].append(min(text_length))\n",
    "    resultado[\"quantiles\"].append(stats.quantiles(text_length))\n",
    "    text_length = []\n",
    "df_resultado = pd.DataFrame(resultado)\n",
    "df_resultado"
   ]
  },
  {
   "cell_type": "code",
   "execution_count": 17,
   "metadata": {},
   "outputs": [
    {
     "name": "stderr",
     "output_type": "stream",
     "text": [
      "[nltk_data] Downloading package stopwords to\n",
      "[nltk_data]     /home/unknownsystem/nltk_data...\n",
      "[nltk_data]   Package stopwords is already up-to-date!\n"
     ]
    }
   ],
   "source": [
    "import nltk\n",
    "nltk.download(\"stopwords\")\n",
    "from collections import Counter\n",
    "\n",
    "def word_frequency(data):\n",
    "    addi = ['si', 'mas', 'aun']\n",
    "    # Descarga la lista de stop words del español\n",
    "    words0 = []\n",
    "    stop_words = nltk.corpus.stopwords.words(\"spanish\")\n",
    "    for i in addi:\n",
    "        stop_words.append(i)\n",
    "    # Inicializa un contador de palabras en cero\n",
    "    word_count = Counter()\n",
    "    \n",
    "    # Itera a través de cada cadena en la lista de datos\n",
    "    for text in data:\n",
    "        # Separa la cadena en una lista de palabras\n",
    "        words = text.split()\n",
    "        \n",
    "        # Elimina las stop words de la lista de palabras\n",
    "        words = [word for word in words if word not in stop_words]\n",
    "        for word in words:\n",
    "            words0.append(word)\n",
    "        \n",
    "        # Actualiza el contador de palabras con la lista de palabras filtrada\n",
    "    word_count.update(words0)\n",
    "    return word_count"
   ]
  },
  {
   "cell_type": "code",
   "execution_count": 19,
   "metadata": {},
   "outputs": [],
   "source": [
    "from autocorrect import Speller\n",
    "spell = Speller('es')\n",
    "texts = []\n",
    "resultado = {}\n",
    "for key, value in df.items():\n",
    "    for row in value.iterrows():\n",
    "        texts.append(spell(row[1][3]))\n",
    "    resultado[key] = word_frequency(texts)"
   ]
  },
  {
   "cell_type": "code",
   "execution_count": 27,
   "metadata": {},
   "outputs": [
    {
     "data": {
      "text/plain": [
       "{'ML': {'necesito': 21, 'compra': 16, 'cuenta': 15, 'hoy': 14, 'ahora': 12},\n",
       " 'Falabella': {'compra': 86,\n",
       "  'necesito': 74,\n",
       "  'regalo': 63,\n",
       "  'producto': 62,\n",
       "  'pedido': 54},\n",
       " 'RipleyChile': {'compra': 166,\n",
       "  'necesito': 156,\n",
       "  'producto': 114,\n",
       "  'respuesta': 97,\n",
       "  'regalo': 95},\n",
       " 'Paris': {'compra': 231,\n",
       "  'necesito': 220,\n",
       "  'producto': 157,\n",
       "  'respuesta': 133,\n",
       "  'compre': 128}}"
      ]
     },
     "execution_count": 27,
     "metadata": {},
     "output_type": "execute_result"
    }
   ],
   "source": [
    "keys = {}\n",
    "for key, value in resultado.items():\n",
    "    keys[key] = {}\n",
    "    for top in sorted(value, key=value.get, reverse=True)[:5]:\n",
    "        keys[key][top] = value[top]\n",
    "keys"
   ]
  }
 ],
 "metadata": {
  "kernelspec": {
   "display_name": "env",
   "language": "python",
   "name": "python3"
  },
  "language_info": {
   "codemirror_mode": {
    "name": "ipython",
    "version": 3
   },
   "file_extension": ".py",
   "mimetype": "text/x-python",
   "name": "python",
   "nbconvert_exporter": "python",
   "pygments_lexer": "ipython3",
   "version": "3.8.10 (default, Nov 14 2022, 12:59:47) \n[GCC 9.4.0]"
  },
  "orig_nbformat": 4,
  "vscode": {
   "interpreter": {
    "hash": "e95f38e479709bf2e64305c06c60d84abc8c78a6dc11795e98ec1510042d1042"
   }
  }
 },
 "nbformat": 4,
 "nbformat_minor": 2
}
