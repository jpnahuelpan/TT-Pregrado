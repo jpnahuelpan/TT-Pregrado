{
 "cells": [
  {
   "attachments": {},
   "cell_type": "markdown",
   "metadata": {},
   "source": [
    "# Falabella"
   ]
  },
  {
   "cell_type": "code",
   "execution_count": 1,
   "metadata": {},
   "outputs": [],
   "source": [
    "import pandas as pd\n",
    "df_ml = pd.read_csv(\"../data/processed/FalabellaAyuda_2022-12-27.csv\")\n",
    "df_ml.dropna(subset=[\"tweet_text\"], inplace=True)\n",
    "df_ml = df_ml[df_ml[\"sentiment\"] != \"others\"]\n",
    "df_ml = df_ml.sample(n=100)\n",
    "# df_r = pd.read_csv(\"../data/processed/RipleyChile_2022-12-27.csv\")\n",
    "# df_p = pd.read_csv(\"../data/processed/tiendas_paris_2022-12-27.csv\")"
   ]
  },
  {
   "cell_type": "code",
   "execution_count": 2,
   "metadata": {},
   "outputs": [],
   "source": [
    "def df_to_list(df):\n",
    "    texts = df[\"tweet_text\"]\n",
    "    data = []\n",
    "    for text in texts:\n",
    "        data.append(text)\n",
    "    return data"
   ]
  },
  {
   "cell_type": "code",
   "execution_count": 3,
   "metadata": {},
   "outputs": [
    {
     "name": "stderr",
     "output_type": "stream",
     "text": [
      "Some weights of the model checkpoint at ../pytorch were not used when initializing BertModel: ['cls.seq_relationship.weight', 'cls.predictions.transform.dense.weight', 'cls.predictions.decoder.weight', 'cls.predictions.bias', 'cls.seq_relationship.bias', 'cls.predictions.transform.LayerNorm.weight', 'cls.predictions.transform.LayerNorm.bias', 'cls.predictions.transform.dense.bias']\n",
      "- This IS expected if you are initializing BertModel from the checkpoint of a model trained on another task or with another architecture (e.g. initializing a BertForSequenceClassification model from a BertForPreTraining model).\n",
      "- This IS NOT expected if you are initializing BertModel from the checkpoint of a model that you expect to be exactly identical (initializing a BertForSequenceClassification model from a BertForSequenceClassification model).\n"
     ]
    }
   ],
   "source": [
    "import numpy as np\n",
    "import torch\n",
    "from transformers import BertModel, BertTokenizer\n",
    "tokenizer_español = BertTokenizer.from_pretrained(\"../pytorch/\", do_lower_case=False)\n",
    "model = BertModel.from_pretrained(\"../pytorch\")"
   ]
  },
  {
   "cell_type": "code",
   "execution_count": 4,
   "metadata": {},
   "outputs": [],
   "source": [
    "from src import Features\n",
    "inputs = df_to_list(df_ml)\n",
    "inputs = Features.bert_encoder(inputs, tokenizer_español)\n",
    "outputs = model(**inputs)\n",
    "last_hidden_states = outputs.last_hidden_state"
   ]
  },
  {
   "cell_type": "code",
   "execution_count": 5,
   "metadata": {},
   "outputs": [],
   "source": [
    "max_poll = Features.max_polling(last_hidden_states)\n",
    "mean_poll = Features.mean_polling(last_hidden_states)"
   ]
  },
  {
   "cell_type": "code",
   "execution_count": 6,
   "metadata": {},
   "outputs": [],
   "source": [
    "data_ml = {\n",
    "        \"max_polling_std\": Features.std_normalization(max_poll),\n",
    "        \"max_polling_z_score\": Features.z_score_normalization(max_poll),\n",
    "        \"max_polling_max\": Features.min_max_normalization(max_poll),\n",
    "        \"mean_polling_std\": Features.std_normalization(mean_poll),\n",
    "        \"mean_polling_z_score\": Features.z_score_normalization(mean_poll),\n",
    "        \"mean_polling_max\": Features.min_max_normalization(mean_poll),\n",
    "    }"
   ]
  },
  {
   "cell_type": "code",
   "execution_count": 7,
   "metadata": {},
   "outputs": [],
   "source": [
    "def find_indexs(list, value):\n",
    "    list_aux = list.copy()\n",
    "    output = []\n",
    "    while True:\n",
    "        try:\n",
    "            index = list_aux.index(value)\n",
    "            output.append(index)\n",
    "            list_aux[index] = None\n",
    "        except ValueError:\n",
    "            break\n",
    "    return output"
   ]
  },
  {
   "attachments": {},
   "cell_type": "markdown",
   "metadata": {},
   "source": [
    "# agrupamiento"
   ]
  },
  {
   "attachments": {},
   "cell_type": "markdown",
   "metadata": {},
   "source": [
    "# k-means"
   ]
  },
  {
   "cell_type": "code",
   "execution_count": 8,
   "metadata": {},
   "outputs": [
    {
     "name": "stderr",
     "output_type": "stream",
     "text": [
      "/home/unknownsystem/Public/tt-pregrado/env_tt/lib/python3.8/site-packages/Tools-0.0.0-py3.8.egg/src/features/build_features.py:181: RuntimeWarning: invalid value encountered in double_scalars\n",
      "/home/unknownsystem/Public/tt-pregrado/env_tt/lib/python3.8/site-packages/Tools-0.0.0-py3.8.egg/src/features/build_features.py:181: RuntimeWarning: invalid value encountered in double_scalars\n",
      "/home/unknownsystem/Public/tt-pregrado/env_tt/lib/python3.8/site-packages/Tools-0.0.0-py3.8.egg/src/features/build_features.py:181: RuntimeWarning: invalid value encountered in double_scalars\n",
      "/home/unknownsystem/Public/tt-pregrado/env_tt/lib/python3.8/site-packages/Tools-0.0.0-py3.8.egg/src/features/build_features.py:181: RuntimeWarning: invalid value encountered in double_scalars\n",
      "/home/unknownsystem/Public/tt-pregrado/env_tt/lib/python3.8/site-packages/Tools-0.0.0-py3.8.egg/src/features/build_features.py:181: RuntimeWarning: invalid value encountered in double_scalars\n",
      "/home/unknownsystem/Public/tt-pregrado/env_tt/lib/python3.8/site-packages/Tools-0.0.0-py3.8.egg/src/features/build_features.py:181: RuntimeWarning: invalid value encountered in double_scalars\n",
      "/home/unknownsystem/Public/tt-pregrado/env_tt/lib/python3.8/site-packages/Tools-0.0.0-py3.8.egg/src/features/build_features.py:181: RuntimeWarning: invalid value encountered in double_scalars\n",
      "/home/unknownsystem/Public/tt-pregrado/env_tt/lib/python3.8/site-packages/Tools-0.0.0-py3.8.egg/src/features/build_features.py:181: RuntimeWarning: invalid value encountered in double_scalars\n",
      "/home/unknownsystem/Public/tt-pregrado/env_tt/lib/python3.8/site-packages/Tools-0.0.0-py3.8.egg/src/features/build_features.py:181: RuntimeWarning: invalid value encountered in double_scalars\n",
      "/home/unknownsystem/Public/tt-pregrado/env_tt/lib/python3.8/site-packages/Tools-0.0.0-py3.8.egg/src/features/build_features.py:181: RuntimeWarning: invalid value encountered in double_scalars\n",
      "/home/unknownsystem/Public/tt-pregrado/env_tt/lib/python3.8/site-packages/Tools-0.0.0-py3.8.egg/src/features/build_features.py:181: RuntimeWarning: invalid value encountered in double_scalars\n",
      "/home/unknownsystem/Public/tt-pregrado/env_tt/lib/python3.8/site-packages/Tools-0.0.0-py3.8.egg/src/features/build_features.py:181: RuntimeWarning: invalid value encountered in double_scalars\n",
      "/home/unknownsystem/Public/tt-pregrado/env_tt/lib/python3.8/site-packages/Tools-0.0.0-py3.8.egg/src/features/build_features.py:181: RuntimeWarning: invalid value encountered in double_scalars\n"
     ]
    }
   ],
   "source": [
    "# k-means\n",
    "from sklearn.cluster import KMeans\n",
    "from sklearn.metrics import silhouette_score\n",
    "agrupamiento = {}\n",
    "metric = []\n",
    "range_n_clusters = range(2, 8)\n",
    "VP_by_k_centroids = {}\n",
    "silhouettes_by_k_centroids = {}\n",
    "for n_clusters in range_n_clusters:\n",
    "    metrica = []\n",
    "    for key, value in data_ml.items():\n",
    "        kmeans = KMeans(\n",
    "            n_clusters=n_clusters,\n",
    "            init=\"random\",\n",
    "            random_state=1,\n",
    "            n_init=\"auto\",\n",
    "        )\n",
    "        cluster_labels = kmeans.fit_predict(value)\n",
    "        # Labeling the clusters\n",
    "        centers = kmeans.cluster_centers_\n",
    "\n",
    "        silhouette_avg = silhouette_score(value, cluster_labels)\n",
    "        silhouettes_by_k_centroids[key] = silhouette_avg\n",
    "\n",
    "        variances = []\n",
    "        for k in range(n_clusters):\n",
    "            variance = Features.cluster_variance(value, cluster_labels, centers, k)\n",
    "            variances.append(variance)\n",
    "        avg_variance = sum(variances)/len(variances)\n",
    "        VP_by_k_centroids[key] = avg_variance"
   ]
  },
  {
   "cell_type": "code",
   "execution_count": null,
   "metadata": {},
   "outputs": [],
   "source": []
  },
  {
   "cell_type": "code",
   "execution_count": 9,
   "metadata": {},
   "outputs": [
    {
     "ename": "NameError",
     "evalue": "name 'rs' is not defined",
     "output_type": "error",
     "traceback": [
      "\u001b[0;31m---------------------------------------------------------------------------\u001b[0m",
      "\u001b[0;31mNameError\u001b[0m                                 Traceback (most recent call last)",
      "\u001b[1;32m/home/unknownsystem/Public/tt-pregrado/notebooks/1.2-jpn-agrupamiento_Fallabella.ipynb Cell 12\u001b[0m in \u001b[0;36m7\n\u001b[1;32m      <a href='vscode-notebook-cell:/home/unknownsystem/Public/tt-pregrado/notebooks/1.2-jpn-agrupamiento_Fallabella.ipynb#X14sZmlsZQ%3D%3D?line=0'>1</a>\u001b[0m i\u001b[39m=\u001b[39m\u001b[39m0\u001b[39m\n\u001b[1;32m      <a href='vscode-notebook-cell:/home/unknownsystem/Public/tt-pregrado/notebooks/1.2-jpn-agrupamiento_Fallabella.ipynb#X14sZmlsZQ%3D%3D?line=1'>2</a>\u001b[0m \u001b[39mfor\u001b[39;00m key, value \u001b[39min\u001b[39;00m data_ml\u001b[39m.\u001b[39mitems():\n\u001b[1;32m      <a href='vscode-notebook-cell:/home/unknownsystem/Public/tt-pregrado/notebooks/1.2-jpn-agrupamiento_Fallabella.ipynb#X14sZmlsZQ%3D%3D?line=2'>3</a>\u001b[0m     kmeans \u001b[39m=\u001b[39m KMeans(\n\u001b[1;32m      <a href='vscode-notebook-cell:/home/unknownsystem/Public/tt-pregrado/notebooks/1.2-jpn-agrupamiento_Fallabella.ipynb#X14sZmlsZQ%3D%3D?line=3'>4</a>\u001b[0m         n_clusters\u001b[39m=\u001b[39m\u001b[39m4\u001b[39m,\n\u001b[1;32m      <a href='vscode-notebook-cell:/home/unknownsystem/Public/tt-pregrado/notebooks/1.2-jpn-agrupamiento_Fallabella.ipynb#X14sZmlsZQ%3D%3D?line=4'>5</a>\u001b[0m         init\u001b[39m=\u001b[39m\u001b[39m\"\u001b[39m\u001b[39mrandom\u001b[39m\u001b[39m\"\u001b[39m,\n\u001b[1;32m      <a href='vscode-notebook-cell:/home/unknownsystem/Public/tt-pregrado/notebooks/1.2-jpn-agrupamiento_Fallabella.ipynb#X14sZmlsZQ%3D%3D?line=5'>6</a>\u001b[0m         max_iter\u001b[39m=\u001b[39m\u001b[39m100\u001b[39m,\n\u001b[0;32m----> <a href='vscode-notebook-cell:/home/unknownsystem/Public/tt-pregrado/notebooks/1.2-jpn-agrupamiento_Fallabella.ipynb#X14sZmlsZQ%3D%3D?line=6'>7</a>\u001b[0m         random_state\u001b[39m=\u001b[39mrs[i][\u001b[39m0\u001b[39m],\n\u001b[1;32m      <a href='vscode-notebook-cell:/home/unknownsystem/Public/tt-pregrado/notebooks/1.2-jpn-agrupamiento_Fallabella.ipynb#X14sZmlsZQ%3D%3D?line=7'>8</a>\u001b[0m         n_init\u001b[39m=\u001b[39m\u001b[39m1\u001b[39m,\n\u001b[1;32m      <a href='vscode-notebook-cell:/home/unknownsystem/Public/tt-pregrado/notebooks/1.2-jpn-agrupamiento_Fallabella.ipynb#X14sZmlsZQ%3D%3D?line=8'>9</a>\u001b[0m     )\u001b[39m.\u001b[39mfit(value)\n\u001b[1;32m     <a href='vscode-notebook-cell:/home/unknownsystem/Public/tt-pregrado/notebooks/1.2-jpn-agrupamiento_Fallabella.ipynb#X14sZmlsZQ%3D%3D?line=9'>10</a>\u001b[0m     agrupamiento[key] \u001b[39m=\u001b[39m \u001b[39mlist\u001b[39m(kmeans\u001b[39m.\u001b[39mlabels_)\n\u001b[1;32m     <a href='vscode-notebook-cell:/home/unknownsystem/Public/tt-pregrado/notebooks/1.2-jpn-agrupamiento_Fallabella.ipynb#X14sZmlsZQ%3D%3D?line=10'>11</a>\u001b[0m     i \u001b[39m+\u001b[39m\u001b[39m=\u001b[39m \u001b[39m1\u001b[39m\n",
      "\u001b[0;31mNameError\u001b[0m: name 'rs' is not defined"
     ]
    }
   ],
   "source": [
    "i=0\n",
    "for key, value in data_ml.items():\n",
    "    kmeans = KMeans(\n",
    "        n_clusters=4,\n",
    "        init=\"random\",\n",
    "        max_iter=100,\n",
    "        random_state=rs[i][0],\n",
    "        n_init=1,\n",
    "    ).fit(value)\n",
    "    agrupamiento[key] = list(kmeans.labels_)\n",
    "    i += 1\n",
    "clusters = {}\n",
    "for key, value in agrupamiento.items():\n",
    "    clusters[key] = {\n",
    "    \"cluster0\": df_ml.iloc[find_indexs(agrupamiento[key], 0)],\n",
    "    \"cluster1\": df_ml.iloc[find_indexs(agrupamiento[key], 1)],\n",
    "    \"cluster2\": df_ml.iloc[find_indexs(agrupamiento[key], 2)],\n",
    "    \"cluster3\": df_ml.iloc[find_indexs(agrupamiento[key], 3)],\n",
    "}\n",
    "# preprocesado vs sentimiento.\n",
    "print(\"rs rsScore cluster 1 cluster 2 cluster 3 cluster 4\")\n",
    "i=0\n",
    "for key0, value0 in clusters.items():\n",
    "    data = []\n",
    "    for key1, value1 in value0.items():\n",
    "        sentiment = dict(value1[\"sentiment\"].value_counts())\n",
    "        sentiment_values = list(sentiment.values())\n",
    "        sentiment_labels = list(sentiment.keys())\n",
    "        sentiment = [f\"{label} ({value})\" for label, value in zip(sentiment_labels, sentiment_values)]\n",
    "        data.append(sentiment)\n",
    "    string = f\"{rs[i][0]} & {rs[i][1]} & {data[0]} & {data[1]} & {data[2]} & {data[3]}\"\n",
    "    string = string.replace('[', '')\n",
    "    string = string.replace(']', '')\n",
    "    string = string.replace(\"'\", \"\")\n",
    "    print(string)\n",
    "    i += 1"
   ]
  },
  {
   "attachments": {},
   "cell_type": "markdown",
   "metadata": {},
   "source": [
    "# Extracción de información"
   ]
  },
  {
   "attachments": {},
   "cell_type": "markdown",
   "metadata": {},
   "source": [
    "## Modelo TCRE "
   ]
  },
  {
   "cell_type": "code",
   "execution_count": null,
   "metadata": {},
   "outputs": [
    {
     "data": {
      "text/plain": [
       "['compre una silla p gamer para regalo de navidad y cometi el error en confiar que el producto venia en buenas condiciones y lamentablemente venia hasta con los pernos oxidados sucia etc.fue francamente decepcionante para mi hija. pesimo',\n",
       " 'por favor, necesito ayuda, esperonun regalo de navidad que debio llegar el 17/12 y aun no llega, al preguntar, nadie sabe dar una respuesta, es aungustiante',\n",
       " 'ojala que todo el retail manana donara juguetes, seria un gesto de humanidad para los ninos de la tragedia',\n",
       " ', cuantos meses mas debo esperar por mi polera? tres meses es mas que suficiente!!!',\n",
       " 'la ayuda q me brindaron fue una escueta respuesta y cerraron la comunicacion sin poder responder y ahora hacer todo otra vez x vez numero 10. nefasto el postventa. vayanse a la falalalala lala lala los denunciare',\n",
       " 'por que sus vendedores y jefes de los vendedores piensan que son duenos de la sucursal? y ellos de forma unilateral escogen los medios de pago. hoy fui a falabella de vina el cual tengo un gran cupo con cmr y cupo con metodo de pago cheque y....',\n",
       " 'pueden dejar de acosarme con sus llamadas, ya me tiene chata que con distintos numeros me siguan llamando a pesar de decir que no soy la persona que buscan. mas encima lo hacen con una ia que con suerte escucha.',\n",
       " 'necesito que me devuelvan mi dinero desde el 5 de octubre que estoy reclamando es el colmo tengo q perder mi tiempo por algo q ustedes debe hacer devolver el dinero q no es de ustedes',\n",
       " 'pesima atencion por watsapp, cero solucion. ninguna respuesta concreta. realice una compra por la app. y llegaria el 21 a falabella mall del trebol, hasta hoy aun de encuentran preparando el pedido. feliz navidad incompetentes.',\n",
       " 'puras preguntas y nada de ayuda real, tienen q mandar mi pedido tan facil como eso y que llegue antes de navidad.',\n",
       " 'mas de un mes y no hay devolucion del producto ni del dinero, me daran alguna solucion? muchos llamados telefonicos al servicio al cliente por el reclamo y nada',\n",
       " 'por favor necesito atencion de tres casos pero atencion real y soluciones reales ya que me tienen hace mas de un mes en espera',\n",
       " 'para que recibir unas ollas de juguete hagan nulo el pedido y me hagan devolucion de la compra.',\n",
       " 'pesimo su servicio no se hacen cargo de sus proveedores\"externos\"',\n",
       " 'este mensaje miserable no es suficiente, dejaron a una pequena sin regalo, creen que es correcto estimada. camila, validando tu pedido n.deg 6230130869, logramos evidenciar que lamentablemente fue cancelado debido al retraso........?tienes alguna duda adicional?',\n",
       " 'pedi un regalo para hija y me dice que el despacho era para el 21 y aun no llega!! se pasaron para irresponsables.',\n",
       " 'ya les edcribi y bo dan ninguna solucion....el pedido esta atrasado mas de 20 dias y me piden espero 5 dias habiles mas para recien darme una respuesta!!!',\n",
       " 'me cancelaron la compra y aun no me devuelven el dinero.',\n",
       " 'mi pareja y yo queremos el regalo de nuestra hija son unos ctm el weon que escribe en esta wea que de una respuesta bien no spam ojala se vallan a la quiebra ya po tomen carta en el asunto no somos dos ni tres somos mucho queremos nuestros productos',\n",
       " 'pesima atencion en caja, falabella mall arauco maipu, mas de 20 minutos esperando que la jefa de seccion de un codigo de una prenda de vestir.',\n",
       " 'tengo un problema similar, solo que desde el 9 de octubre, mas de tres meses con esto......',\n",
       " 'que pasa con las compras online que llegan descaradamente malas, compre un reloj en promocion que solo me provoco pasar verguenza, fue online porque no puedo ir al mall... y ahora? para cambiarlo? no puedo ir presencial y menos sin saber donde esta el producto',\n",
       " 'no pude entregar el regalo en navidad y mi papa muere de dolor porque necesita su calzado especial, todo porque no respetaron la fecha de entrega!!! y sigo esperando',\n",
       " 'laburen loco laburen siempre el mismo cuento',\n",
       " 'me cagaron la navidad y la sorpresa para mi hijo... me mandan un paquete con una bici que compre y resulta que vienen con los datos correctos y cuando la preparaba para dejarla en el arbol... me doy cuenta que no es la que pedi',\n",
       " 'hace mas de 10 dias genere un reclamo, por que me llego solo un producto cuando compre 2, el servicio al cliente es lo peor se burlan del cliente. te escriben y luego no contestam una muestra de la ultima vez de unas 50.',\n",
       " 'no se puede por internet? no puedo llamar..',\n",
       " 'desde el 16 de diciembre esperando a que envien la cama que compre... 0 respuestas por los medios que me intente comunicar, denuncia ya realizada en espero respuesta...',\n",
       " 'rt no pude entregar el regalo en navidad y mi papa muere de dolor porque necesita su calzado especial, todo...',\n",
       " 'llevo mas de 20 dias esperando la confirmacion de una compra, que solo se distribuye por uds, como es posible que no se hagan cargo si uds prestan la plataforma para venta de terceros, minimo respaldar la compra de usuario!',\n",
       " 'hoy si llegan mis regalos si? he llenado tanto formulario y no se de que sirve si llego el dia y no tengo solucion, quiero llorar',\n",
       " '1 semana para que me envien un comprobante de reembolso y todavia nada que pesimo es comprar por internet aqui',\n",
       " 'estoy esperando respuesta desde el martes, les mande mensajes y nada... perdieron un cliente por su inoperancia, ahora quiero resolver la cancelacion de mi compra hecha por ustedes unilateralmente, el producto sigue disponible en la pagina,',\n",
       " 'rt pedido 2040784554 de cortina blanca llego gris metalico horrible. necesito devolverla',\n",
       " 'pedido 2040784554 de cortina blanca llego gris metalico horrible. necesito devolverla',\n",
       " 'llevo 80 minutos en el telefono esperando que me atienda son unos negligentes, el producto que solicite debia llegar ayer a la tienda en que debo retirar y aun no llega',\n",
       " 'horrible atencion al cluente y despacho me han hecho perder tiempo y plata!!!',\n",
       " 'hasta cuando nos tramitan solo queremos una respuesta. compre dos productos me despacharon 1 en resumen me robaron uno',\n",
       " 'realice una compra de los regalos de navidad para mis hijos, el 15/12/22, necesito que el pedido me llegue antes de navidad, mis hijos quedaran sin regalo, gracias a su ineficiencia',\n",
       " 'llevo mas de un mes y medio esperando un reembolso de puntos y he llamado 9 veces y siempre la misma respuesta 5 dias habiles y no pasa nada',\n",
       " 'ya lo hice y no hay solucion, solo contestan bots!',\n",
       " 'sus ejecutivos sea por el medio que sea estan sacando la vuelta y no responden nada',\n",
       " 'que pesimo servicio que tienen con la fusion de las empresas, necesito saber por una nota de credito y me han paseado entre sodimac y falabella sin una cara visible que maneje el tema impresentable nadie sabe como funciona!!! urgente necesito que me contacten',\n",
       " 'esto llegara algun dia? ya que rompieron el corazon de un nino.. o da lo mismo?',\n",
       " 'del 14 de noviembre y aun no me dan una solucion. en los canales que me indicaron ustedes, me reaponden que ellos no pueden hacer nada. a quien me dirijo?. necesito mi dinero',\n",
       " 'siempre ponen lo mismo son una empresa poco seria y no responsable con los clientes',\n",
       " 'para que hacen que uno escriba por interno si no solucionan nada? en que momento se volvieron una empresa tan nefasta, pasan llenos de reclamos...',\n",
       " 'compre el 27 de noviembre un regalo para mi senora todavia no puede llegar una mierda puras respuestas espere 72 horas la unica wea que saben decir 24 dias de atraso',\n",
       " 'solicito ayuda con entrega de compra, pero no esta listo para retiro y ejecutiva luisa cupajita de comunicacion grita a traves del chat(utiliza mayusculas) y al indicarle q no es correcto corta la gestion. horrible servicio,necesito solucion a la brevedad',\n",
       " 'me cortaron la comunicacion sin que yo respondiera y pudiese adjuntar los documentos, resulta que en su sistema no les figura el pago segun ustedes y a mi si se me hizo el descuento del dinero, y ahora no recibire mi producto a tiempo por su mal sistema',\n",
       " 'me cancelaron un producto, sin avisarme ni preguntar, era el regalo de navidad de mi hijo. mi bebe se va a quedar sin su regalo por culpa de ustedes! como pueden jugar con la gente en estas fechas tan delicadas!! exijo que llegue mi producto!!',\n",
       " 'por favor ayuda urgente,con el sistema de cambio en concepcion, algunos solo tenemos este dia disponible para hacer esto',\n",
       " 'me parece una burla responder asi a un problema que puede ser realmente complicado para el amigo.',\n",
       " 'pura mda! su atencion! a las 4.30 am me llego un wsp',\n",
       " 'insisto. no ocultare mi reclamo por dm para que en los reportes de rrss no les salga. si no estan cumpliendo la pega del servicio que ofrecen, por que no deberia transparentarlo?',\n",
       " 'no se entiende como una empresa puede ser tan burocratica en vez de agilizar los procesos uno se topa con un muro en la atencion del cliente generando molestias por no dar una solucion en corto plazo',\n",
       " 'llevo 50 minutos en el telefono esperando que me atienda son unos negligentes, el producto que solicite debia llegar ayer a la tienda en que debo retirar y aun no llega.',\n",
       " 'es un asco su servicio, compre el dia 22 de noviembre y a la fecha ninguna noticia de la compra, se cumplira un mes y lo peor que es un regalo para nino. son unos inutiles',\n",
       " 'y ahora me envia 14 mensajes de desde las 5 a.m. para que use una compensacion que no cubre en nada el mal rato. ya parece acoso...',\n",
       " 'llevo 6 dias esperando un pedido que era para regalo, y nadie me da fecha de llegada.. no puedo seguir esperando, tendre que comprar otra cosa.. quien responde??',\n",
       " 'ayuda estos estafadores dejaron a muchos ninos sin regalos, no dejan cancelar compras wuedebieton llegar hace dias somos muchos los que tenemos problemas porq aun no llegan nuestras compras',\n",
       " 'es un fiasco como tienda no solucionan nada, se descartan del asunto y su solucion y lo peor de todo es que te pregunta le pudimos ayudar que ineficiencia como empresas',\n",
       " 'hasta cuando tenemos que ver su mugre progre en publicidad. tanto costaba poner una familia? ahora navidad\"inclusiva\" estamos hartos del progrerio. por lo mismo ya comence a buscar nuevas alternativas, fuiste bueno',\n",
       " ', la devolucion de un producto incompleto con despacho a domicilio por su dimension y tamano(44 kilos), por que si es cancelado su despacho para entrega, en caso de devolucion deber ser en tienda.? mala gestion post venta.!!',\n",
       " 'no les basto con no cumplir con el plazo de entrega y arruinar mi regalo de navidad si no que ahora me generan un\"ticket\" que ni plazo de respuesta entregan!! de pascueros a grinch',\n",
       " 'estimados por segunda vez compro por internet en falabella y la primera zapatilla no parecia nike por las malas terminaciones, me hicieron ir a la tienda a cambiarla pero en el local no hay nada, por lo que me devolvieron el dinero,',\n",
       " 'este mes tengo beneficios por cumpleanos. no me ha llegado ningun cupon. ninguna gracia ser cliente premium',\n",
       " 'son un chiste, me desean una feliz navidad, cuando me la arruinaron',\n",
       " 'necesito que se me entregue mi pedido, que ya lleva 5 dias de atraso, nefasto el servicio de whatsapp y ni hablar el telefonico, esperare al dia 30 de este mes, si no llega, ingresare mi reclamo a sernac....',\n",
       " 'hola estimados sres!! buenas tardes, yo le deseo feliz navidad, que lo pasen muy bien todos ustedes, con el mejor carino de todos, ano 2022. que tengan un buen dia buenas tardes!!saludos a todos!! claudio andres.',\n",
       " 'como es posible que me hayan cancelado mi compra!!! era el regalo para mi sobrino de navidad!!!! por que no se dieron cuenta al momento que hice la compra!!! ni siquiera me avisaron!!',\n",
       " 'pesima empresa, irresponsable, publicidad enganosa, abusivos,',\n",
       " 'me al chat de falabella y me mandan a otro falabella y en ese telefono nunca dan respuesta jajaja una burla',\n",
       " 'compre un regalo para ninos el 15 y llegaria ayer 21. me avisaron que no fue asi y que demorarian 5 dias habiles mas. comprenderan que lo necesito para navidad. llame al call center sin solucion, me pasean por sus procedimientos internos y no obtengo respuesta.',\n",
       " 'aun no me llega mi compra realizada el dia 22 de noviembre, como veran un nino quedo sin su regalo, irresponsabilidad total',\n",
       " 'digan la verdad, no me resolvieron nada, me pasaron un bot perdi tiempo y al final me mandan un mensaje diciendo que se cancelo la compra y est mensaje un chiste',\n",
       " 'hola, la respuesta fue esperar a que me respondan en 6 dias habiles. estoy mas que segura que no me van a contactar. su servicio es pesimo sus devoluciones peores.',\n",
       " 'su atencion al cliente es demasiado tediosa, me han tenido mas de 40 min llamando al callcenter para ver un estado de compra... sin solucion cada vez que oprimo op. 2 me cortan, necesito respuestas!',\n",
       " 'no solucionan nada solo se desasen del problema nada mas',\n",
       " 'y me esatafaron, llego un producto que no cumplia las condiciones, y me cagaron el regalo de navidad de mis sobrinos. no compren ahi si no quieren pasar rabia. por supuesto que es un puro weveo intentar hacer el cambio',\n",
       " 'plazos? ustedes mismos me enviaron la cancelacion, es facil diganme si van a entregar o no o busco alternativas la navidad es manana, ademas dejaron copada mi tarjeta de credito, eso a ustedes les da lo mismo pero si no pueden resolver tengo que volver a comprar en otro lado',\n",
       " 'mi deseo de navidad es que vuelvan a cordoba argentina, sin ustedes ya nada es igual',\n",
       " 'hay algo peor que el servicio a cliente de falabella?, nunca saben nada y atienden horrible, llevo mas de una semana tratando de saber cuando me llegara lo comprado, y esta gente de falabella no tienen respuesta, asi que no me queda otra que poner demanda a sernac',\n",
       " 'para que introduzcan un reclamo que no solucione nada! voy a ir directamente a la tienda de falabella para que me devuelvan ahi mismo el dinero.',\n",
       " 'necesito asistencia por reclamo: compre un producto con despacho a domicilio y sus repartidores lo dejaron en una sucursal de chilexpress!! llamo a su call/ wsp pero nadie me responde, estoy reclamando desde el 13/12, gracias',\n",
       " 'ayer vi un tablet a un precio en tienda alto las condes.. hoy lo vine a comprar y lo habian subido 30 mil pesos. trate de preguntarle a la encargada y tuvo muy mal trato.. mal educada y altanera!! como juegan con la gente que muchas con esfuerzo juntan$!!!',\n",
       " 'compre el 27 de noviembre una cartera y con fecha 23 de diciembre aun no la recibo, llamo y me dicen que espere, que tengo que llegar al otro ano para que se hagan responsables?']"
      ]
     },
     "execution_count": 10,
     "metadata": {},
     "output_type": "execute_result"
    }
   ],
   "source": [
    "# Example usage\n",
    "corpus = []\n",
    "key_list = list(clusters.keys())\n",
    "for _, value0 in clusters[key_list[0]].items():\n",
    "    corpus.append(value0['tweet_text'].tolist())\n",
    "corpus[0]"
   ]
  },
  {
   "cell_type": "code",
   "execution_count": null,
   "metadata": {},
   "outputs": [],
   "source": [
    "grupo = 0\n",
    "corpus0 = []\n",
    "cluster_result = []\n",
    "for text_list in corpus:\n",
    "    for text in text_list:\n",
    "        corpus0.append(text)\n",
    "        cluster_result.append(grupo)\n",
    "    grupo += 1"
   ]
  },
  {
   "cell_type": "code",
   "execution_count": null,
   "metadata": {},
   "outputs": [
    {
     "name": "stdout",
     "output_type": "stream",
     "text": [
      "[['si', 'mas', 'ustedes', 'atencion', 'hagan', 'mensaje', 'plazo', 'buenas', 'regalo', 'compras', 'mal', 'venia', 'falabella', 'queremos', 'necesito', 'laburen', 'sistema', 'devolucion', 'cupo', 'vendedores', 'lala', 'vez', 'despacho', 'dinero', 'ir', 'meses', 'dias', 'puedo', 'online', 'ofrecen', 'pasean', 'pasen', 'pedi', 'pedido', 'perdere', 'perdi', 'pega', 'peor', 'paseado', 'perdieron', 'pequena', 'perder', 'ocultare', 'peores', 'pasa', 'pasaron', 'otro', 'oprimo', 'oxidados', 'pagina', 'pago', 'papa', 'op', 'papel', 'paquete', 'para', 'parece', 'pernos', 'parecia', 'pareja', 'ollas', 'ojala', 'otra', 'pasan', 'pasar', 'pascueros', 'pero', '10', 'pesar', 'preguntarle', 'preguntas', 'premium', 'prenda', 'preparaba', 'preparando', 'presencial', 'prestan', 'primera', 'privado', 'problema', 'problemas', 'procedimientos', 'procesos', 'producto', 'productos', 'progre', 'progrerio', 'promocion', 'preguntar', 'pregunta', 'precio', 'postventa', 'pesima', 'pesimo', 'pesos', 'piden', 'piensan', 'octubre', 'plata', 'plataforma'], ['si', 'mas', 'ustedes', 'atencion', 'hagan', 'mensaje', 'plazo', 'buenas', 'regalo', 'compras', 'mal', 'venia', 'falabella', 'queremos', 'necesito', 'laburen', 'sistema', 'devolucion', 'cupo', 'vendedores', 'lala', 'vez', 'despacho', 'dinero', 'ir', 'meses', 'dias', 'puedo', 'online', 'ofrecen', 'pasean', 'pasen', 'pedi', 'pedido', 'perdere', 'perdi', 'pega', 'peor', 'paseado', 'perdieron', 'pequena', 'perder', 'ocultare', 'peores', 'pasa', 'pasaron', 'otro', 'oprimo', 'oxidados', 'pagina', 'pago', 'papa', 'op', 'papel', 'paquete', 'para', 'parece', 'pernos', 'parecia', 'pareja', 'ollas', 'ojala', 'otra', 'pasan', 'pasar', 'pascueros', 'pero', '10', 'pesar', 'preguntarle', 'preguntas', 'premium', 'prenda', 'preparaba', 'preparando', 'presencial', 'prestan', 'primera', 'privado', 'problema', 'problemas', 'procedimientos', 'procesos', 'producto', 'productos', 'progre', 'progrerio', 'promocion', 'preguntar', 'pregunta', 'precio', 'postventa', 'pesima', 'pesimo', 'pesos', 'piden', 'piensan', 'octubre', 'plata', 'plataforma'], ['si', 'mas', 'ustedes', 'atencion', 'hagan', 'mensaje', 'plazo', 'buenas', 'regalo', 'compras', 'mal', 'venia', 'falabella', 'queremos', 'necesito', 'laburen', 'sistema', 'devolucion', 'cupo', 'vendedores', 'lala', 'vez', 'despacho', 'dinero', 'ir', 'meses', 'dias', 'puedo', 'online', 'ofrecen', 'pasean', 'pasen', 'pedi', 'pedido', 'perdere', 'perdi', 'pega', 'peor', 'paseado', 'perdieron', 'pequena', 'perder', 'ocultare', 'peores', 'pasa', 'pasaron', 'otro', 'oprimo', 'oxidados', 'pagina', 'pago', 'papa', 'op', 'papel', 'paquete', 'para', 'parece', 'pernos', 'parecia', 'pareja', 'ollas', 'ojala', 'otra', 'pasan', 'pasar', 'pascueros', 'pero', '10', 'pesar', 'preguntarle', 'preguntas', 'premium', 'prenda', 'preparaba', 'preparando', 'presencial', 'prestan', 'primera', 'privado', 'problema', 'problemas', 'procedimientos', 'procesos', 'producto', 'productos', 'progre', 'progrerio', 'promocion', 'preguntar', 'pregunta', 'precio', 'postventa', 'pesima', 'pesimo', 'pesos', 'piden', 'piensan', 'octubre', 'plata', 'plataforma'], ['si', 'mas', 'ustedes', 'atencion', 'hagan', 'mensaje', 'plazo', 'buenas', 'regalo', 'compras', 'mal', 'venia', 'falabella', 'queremos', 'necesito', 'laburen', 'sistema', 'devolucion', 'cupo', 'vendedores', 'lala', 'vez', 'despacho', 'dinero', 'ir', 'meses', 'dias', 'puedo', 'online', 'ofrecen', 'pasean', 'pasen', 'pedi', 'pedido', 'perdere', 'perdi', 'pega', 'peor', 'paseado', 'perdieron', 'pequena', 'perder', 'ocultare', 'peores', 'pasa', 'pasaron', 'otro', 'oprimo', 'oxidados', 'pagina', 'pago', 'papa', 'op', 'papel', 'paquete', 'para', 'parece', 'pernos', 'parecia', 'pareja', 'ollas', 'ojala', 'otra', 'pasan', 'pasar', 'pascueros', 'pero', '10', 'pesar', 'preguntarle', 'preguntas', 'premium', 'prenda', 'preparaba', 'preparando', 'presencial', 'prestan', 'primera', 'privado', 'problema', 'problemas', 'procedimientos', 'procesos', 'producto', 'productos', 'progre', 'progrerio', 'promocion', 'preguntar', 'pregunta', 'precio', 'postventa', 'pesima', 'pesimo', 'pesos', 'piden', 'piensan', 'octubre', 'plata', 'plataforma']]\n"
     ]
    }
   ],
   "source": [
    "from src import Summarize\n",
    "from sklearn.feature_extraction.text import TfidfVectorizer, CountVectorizer\n",
    "vectorizer = CountVectorizer()\n",
    "tcre_results = Summarize.TCRE(corpus0, cluster_result, vectorizer)\n",
    "print(tcre_results)"
   ]
  },
  {
   "cell_type": "code",
   "execution_count": null,
   "metadata": {},
   "outputs": [],
   "source": [
    "tweets = [s.replace(',', ' ').replace('.', ' ') for s in corpus[0]]\n",
    "tweets = [s.rstrip('.').rstrip(',') + '.' for s in tweets]\n",
    "tweets = [s.rstrip().rstrip('.') + '.' if s.endswith(' ') else s + '.' for s in tweets]\n"
   ]
  },
  {
   "cell_type": "code",
   "execution_count": null,
   "metadata": {},
   "outputs": [
    {
     "data": {
      "text/plain": [
       "['compre una silla p gamer para regalo de navidad y cometi el error en confiar que el producto venia en buenas condiciones y lamentablemente venia hasta con los pernos oxidados sucia etc fue francamente decepcionante para mi hija  pesimo..',\n",
       " 'por favor  necesito ayuda  esperonun regalo de navidad que debio llegar el 17/12 y aun no llega  al preguntar  nadie sabe dar una respuesta  es aungustiante..',\n",
       " 'ojala que todo el retail manana donara juguetes  seria un gesto de humanidad para los ninos de la tragedia..',\n",
       " '  cuantos meses mas debo esperar por mi polera? tres meses es mas que suficiente!!!..',\n",
       " 'la ayuda q me brindaron fue una escueta respuesta y cerraron la comunicacion sin poder responder y ahora hacer todo otra vez x vez numero 10  nefasto el postventa  vayanse a la falalalala lala lala los denunciare..',\n",
       " 'por que sus vendedores y jefes de los vendedores piensan que son duenos de la sucursal? y ellos de forma unilateral escogen los medios de pago  hoy fui a falabella de vina el cual tengo un gran cupo con cmr y cupo con metodo de pago cheque y    ..',\n",
       " 'pueden dejar de acosarme con sus llamadas  ya me tiene chata que con distintos numeros me siguan llamando a pesar de decir que no soy la persona que buscan  mas encima lo hacen con una ia que con suerte escucha ..',\n",
       " 'necesito que me devuelvan mi dinero desde el 5 de octubre que estoy reclamando es el colmo tengo q perder mi tiempo por algo q ustedes debe hacer devolver el dinero q no es de ustedes..',\n",
       " 'pesima atencion por watsapp  cero solucion  ninguna respuesta concreta  realice una compra por la app  y llegaria el 21 a falabella mall del trebol  hasta hoy aun de encuentran preparando el pedido  feliz navidad incompetentes ..',\n",
       " 'puras preguntas y nada de ayuda real  tienen q mandar mi pedido tan facil como eso y que llegue antes de navidad ..',\n",
       " 'mas de un mes y no hay devolucion del producto ni del dinero  me daran alguna solucion? muchos llamados telefonicos al servicio al cliente por el reclamo y nada..',\n",
       " 'por favor necesito atencion de tres casos pero atencion real y soluciones reales ya que me tienen hace mas de un mes en espera..',\n",
       " 'para que recibir unas ollas de juguete hagan nulo el pedido y me hagan devolucion de la compra ..',\n",
       " 'pesimo su servicio no se hacen cargo de sus proveedores\"externos\"..',\n",
       " 'este mensaje miserable no es suficiente  dejaron a una pequena sin regalo  creen que es correcto estimada  camila  validando tu pedido n deg 6230130869  logramos evidenciar que lamentablemente fue cancelado debido al retraso        ?tienes alguna duda adicional?..',\n",
       " 'pedi un regalo para hija y me dice que el despacho era para el 21 y aun no llega!! se pasaron para irresponsables ..',\n",
       " 'ya les edcribi y bo dan ninguna solucion    el pedido esta atrasado mas de 20 dias y me piden espero 5 dias habiles mas para recien darme una respuesta!!!..',\n",
       " 'me cancelaron la compra y aun no me devuelven el dinero ..',\n",
       " 'mi pareja y yo queremos el regalo de nuestra hija son unos ctm el weon que escribe en esta wea que de una respuesta bien no spam ojala se vallan a la quiebra ya po tomen carta en el asunto no somos dos ni tres somos mucho queremos nuestros productos..',\n",
       " 'pesima atencion en caja  falabella mall arauco maipu  mas de 20 minutos esperando que la jefa de seccion de un codigo de una prenda de vestir ..',\n",
       " 'tengo un problema similar  solo que desde el 9 de octubre  mas de tres meses con esto      ..',\n",
       " 'que pasa con las compras online que llegan descaradamente malas  compre un reloj en promocion que solo me provoco pasar verguenza  fue online porque no puedo ir al mall    y ahora? para cambiarlo? no puedo ir presencial y menos sin saber donde esta el producto..',\n",
       " 'no pude entregar el regalo en navidad y mi papa muere de dolor porque necesita su calzado especial  todo porque no respetaron la fecha de entrega!!! y sigo esperando..',\n",
       " 'laburen loco laburen siempre el mismo cuento..',\n",
       " 'me cagaron la navidad y la sorpresa para mi hijo    me mandan un paquete con una bici que compre y resulta que vienen con los datos correctos y cuando la preparaba para dejarla en el arbol    me doy cuenta que no es la que pedi..',\n",
       " 'hace mas de 10 dias genere un reclamo  por que me llego solo un producto cuando compre 2  el servicio al cliente es lo peor se burlan del cliente  te escriben y luego no contestam una muestra de la ultima vez de unas 50 ..',\n",
       " 'no se puede por internet? no puedo llamar  ..',\n",
       " 'desde el 16 de diciembre esperando a que envien la cama que compre    0 respuestas por los medios que me intente comunicar  denuncia ya realizada en espero respuesta   ..',\n",
       " 'rt no pude entregar el regalo en navidad y mi papa muere de dolor porque necesita su calzado especial  todo   ..',\n",
       " 'llevo mas de 20 dias esperando la confirmacion de una compra  que solo se distribuye por uds  como es posible que no se hagan cargo si uds prestan la plataforma para venta de terceros  minimo respaldar la compra de usuario!..',\n",
       " 'hoy si llegan mis regalos si? he llenado tanto formulario y no se de que sirve si llego el dia y no tengo solucion  quiero llorar..',\n",
       " '1 semana para que me envien un comprobante de reembolso y todavia nada que pesimo es comprar por internet aqui..',\n",
       " 'estoy esperando respuesta desde el martes  les mande mensajes y nada    perdieron un cliente por su inoperancia  ahora quiero resolver la cancelacion de mi compra hecha por ustedes unilateralmente  el producto sigue disponible en la pagina ..',\n",
       " 'rt pedido 2040784554 de cortina blanca llego gris metalico horrible  necesito devolverla..',\n",
       " 'pedido 2040784554 de cortina blanca llego gris metalico horrible  necesito devolverla..',\n",
       " 'llevo 80 minutos en el telefono esperando que me atienda son unos negligentes  el producto que solicite debia llegar ayer a la tienda en que debo retirar y aun no llega..',\n",
       " 'horrible atencion al cluente y despacho me han hecho perder tiempo y plata!!!..',\n",
       " 'hasta cuando nos tramitan solo queremos una respuesta  compre dos productos me despacharon 1 en resumen me robaron uno..',\n",
       " 'realice una compra de los regalos de navidad para mis hijos  el 15/12/22  necesito que el pedido me llegue antes de navidad  mis hijos quedaran sin regalo  gracias a su ineficiencia..',\n",
       " 'llevo mas de un mes y medio esperando un reembolso de puntos y he llamado 9 veces y siempre la misma respuesta 5 dias habiles y no pasa nada..',\n",
       " 'ya lo hice y no hay solucion  solo contestan bots!..',\n",
       " 'sus ejecutivos sea por el medio que sea estan sacando la vuelta y no responden nada..',\n",
       " 'que pesimo servicio que tienen con la fusion de las empresas  necesito saber por una nota de credito y me han paseado entre sodimac y falabella sin una cara visible que maneje el tema impresentable nadie sabe como funciona!!! urgente necesito que me contacten..',\n",
       " 'esto llegara algun dia? ya que rompieron el corazon de un nino   o da lo mismo?..',\n",
       " 'del 14 de noviembre y aun no me dan una solucion  en los canales que me indicaron ustedes  me reaponden que ellos no pueden hacer nada  a quien me dirijo?  necesito mi dinero..',\n",
       " 'siempre ponen lo mismo son una empresa poco seria y no responsable con los clientes..',\n",
       " 'para que hacen que uno escriba por interno si no solucionan nada? en que momento se volvieron una empresa tan nefasta  pasan llenos de reclamos   ..',\n",
       " 'compre el 27 de noviembre un regalo para mi senora todavia no puede llegar una mierda puras respuestas espere 72 horas la unica wea que saben decir 24 dias de atraso..',\n",
       " 'solicito ayuda con entrega de compra  pero no esta listo para retiro y ejecutiva luisa cupajita de comunicacion grita a traves del chat(utiliza mayusculas) y al indicarle q no es correcto corta la gestion  horrible servicio necesito solucion a la brevedad..',\n",
       " 'me cortaron la comunicacion sin que yo respondiera y pudiese adjuntar los documentos  resulta que en su sistema no les figura el pago segun ustedes y a mi si se me hizo el descuento del dinero  y ahora no recibire mi producto a tiempo por su mal sistema..',\n",
       " 'me cancelaron un producto  sin avisarme ni preguntar  era el regalo de navidad de mi hijo  mi bebe se va a quedar sin su regalo por culpa de ustedes! como pueden jugar con la gente en estas fechas tan delicadas!! exijo que llegue mi producto!!..',\n",
       " 'por favor ayuda urgente con el sistema de cambio en concepcion  algunos solo tenemos este dia disponible para hacer esto..',\n",
       " 'me parece una burla responder asi a un problema que puede ser realmente complicado para el amigo ..',\n",
       " 'pura mda! su atencion! a las 4 30 am me llego un wsp..',\n",
       " 'insisto  no ocultare mi reclamo por dm para que en los reportes de rrss no les salga  si no estan cumpliendo la pega del servicio que ofrecen  por que no deberia transparentarlo?..',\n",
       " 'no se entiende como una empresa puede ser tan burocratica en vez de agilizar los procesos uno se topa con un muro en la atencion del cliente generando molestias por no dar una solucion en corto plazo..',\n",
       " 'llevo 50 minutos en el telefono esperando que me atienda son unos negligentes  el producto que solicite debia llegar ayer a la tienda en que debo retirar y aun no llega ..',\n",
       " 'es un asco su servicio  compre el dia 22 de noviembre y a la fecha ninguna noticia de la compra  se cumplira un mes y lo peor que es un regalo para nino  son unos inutiles..',\n",
       " 'y ahora me envia 14 mensajes de desde las 5 a m  para que use una compensacion que no cubre en nada el mal rato  ya parece acoso   ..',\n",
       " 'llevo 6 dias esperando un pedido que era para regalo  y nadie me da fecha de llegada   no puedo seguir esperando  tendre que comprar otra cosa   quien responde??..',\n",
       " 'ayuda estos estafadores dejaron a muchos ninos sin regalos  no dejan cancelar compras wuedebieton llegar hace dias somos muchos los que tenemos problemas porq aun no llegan nuestras compras..',\n",
       " 'es un fiasco como tienda no solucionan nada  se descartan del asunto y su solucion y lo peor de todo es que te pregunta le pudimos ayudar que ineficiencia como empresas..',\n",
       " 'hasta cuando tenemos que ver su mugre progre en publicidad  tanto costaba poner una familia? ahora navidad\"inclusiva\" estamos hartos del progrerio  por lo mismo ya comence a buscar nuevas alternativas  fuiste bueno..',\n",
       " '  la devolucion de un producto incompleto con despacho a domicilio por su dimension y tamano(44 kilos)  por que si es cancelado su despacho para entrega  en caso de devolucion deber ser en tienda ? mala gestion post venta !!..',\n",
       " 'no les basto con no cumplir con el plazo de entrega y arruinar mi regalo de navidad si no que ahora me generan un\"ticket\" que ni plazo de respuesta entregan!! de pascueros a grinch..',\n",
       " 'estimados por segunda vez compro por internet en falabella y la primera zapatilla no parecia nike por las malas terminaciones  me hicieron ir a la tienda a cambiarla pero en el local no hay nada  por lo que me devolvieron el dinero ..',\n",
       " 'este mes tengo beneficios por cumpleanos  no me ha llegado ningun cupon  ninguna gracia ser cliente premium..',\n",
       " 'son un chiste  me desean una feliz navidad  cuando me la arruinaron..',\n",
       " 'necesito que se me entregue mi pedido  que ya lleva 5 dias de atraso  nefasto el servicio de whatsapp y ni hablar el telefonico  esperare al dia 30 de este mes  si no llega  ingresare mi reclamo a sernac    ..',\n",
       " 'hola estimados sres!! buenas tardes  yo le deseo feliz navidad  que lo pasen muy bien todos ustedes  con el mejor carino de todos  ano 2022  que tengan un buen dia buenas tardes!!saludos a todos!! claudio andres ..',\n",
       " 'como es posible que me hayan cancelado mi compra!!! era el regalo para mi sobrino de navidad!!!! por que no se dieron cuenta al momento que hice la compra!!! ni siquiera me avisaron!!..',\n",
       " 'pesima empresa  irresponsable  publicidad enganosa  abusivos ..',\n",
       " 'me al chat de falabella y me mandan a otro falabella y en ese telefono nunca dan respuesta jajaja una burla..',\n",
       " 'compre un regalo para ninos el 15 y llegaria ayer 21  me avisaron que no fue asi y que demorarian 5 dias habiles mas  comprenderan que lo necesito para navidad  llame al call center sin solucion  me pasean por sus procedimientos internos y no obtengo respuesta ..',\n",
       " 'aun no me llega mi compra realizada el dia 22 de noviembre  como veran un nino quedo sin su regalo  irresponsabilidad total..',\n",
       " 'digan la verdad  no me resolvieron nada  me pasaron un bot perdi tiempo y al final me mandan un mensaje diciendo que se cancelo la compra y est mensaje un chiste..',\n",
       " 'hola  la respuesta fue esperar a que me respondan en 6 dias habiles  estoy mas que segura que no me van a contactar  su servicio es pesimo sus devoluciones peores ..',\n",
       " 'su atencion al cliente es demasiado tediosa  me han tenido mas de 40 min llamando al callcenter para ver un estado de compra    sin solucion cada vez que oprimo op  2 me cortan  necesito respuestas!..',\n",
       " 'no solucionan nada solo se desasen del problema nada mas..',\n",
       " 'y me esatafaron  llego un producto que no cumplia las condiciones  y me cagaron el regalo de navidad de mis sobrinos  no compren ahi si no quieren pasar rabia  por supuesto que es un puro weveo intentar hacer el cambio..',\n",
       " 'plazos? ustedes mismos me enviaron la cancelacion  es facil diganme si van a entregar o no o busco alternativas la navidad es manana  ademas dejaron copada mi tarjeta de credito  eso a ustedes les da lo mismo pero si no pueden resolver tengo que volver a comprar en otro lado..',\n",
       " 'mi deseo de navidad es que vuelvan a cordoba argentina  sin ustedes ya nada es igual..',\n",
       " 'hay algo peor que el servicio a cliente de falabella?  nunca saben nada y atienden horrible  llevo mas de una semana tratando de saber cuando me llegara lo comprado  y esta gente de falabella no tienen respuesta  asi que no me queda otra que poner demanda a sernac..',\n",
       " 'para que introduzcan un reclamo que no solucione nada! voy a ir directamente a la tienda de falabella para que me devuelvan ahi mismo el dinero ..',\n",
       " 'necesito asistencia por reclamo: compre un producto con despacho a domicilio y sus repartidores lo dejaron en una sucursal de chilexpress!! llamo a su call/ wsp pero nadie me responde  estoy reclamando desde el 13/12  gracias..',\n",
       " 'ayer vi un tablet a un precio en tienda alto las condes   hoy lo vine a comprar y lo habian subido 30 mil pesos  trate de preguntarle a la encargada y tuvo muy mal trato   mal educada y altanera!! como juegan con la gente que muchas con esfuerzo juntan$!!!..',\n",
       " 'compre el 27 de noviembre una cartera y con fecha 23 de diciembre aun no la recibo  llamo y me dicen que espere  que tengo que llegar al otro ano para que se hagan responsables?..']"
      ]
     },
     "execution_count": 23,
     "metadata": {},
     "output_type": "execute_result"
    }
   ],
   "source": [
    "from nltk.tokenize import sent_tokenize\n",
    "\n",
    "#sentences = sent_tokenize(cluster_concatenated)\n",
    "A = vectorizer.fit_transform(tweets).toarray()\n",
    "A = A.T\n",
    "tweets"
   ]
  },
  {
   "cell_type": "code",
   "execution_count": null,
   "metadata": {},
   "outputs": [
    {
     "name": "stdout",
     "output_type": "stream",
     "text": [
      "por que sus vendedores y jefes de los vendedores piensan que son duenos de la sucursal? y ellos de forma unilateral escogen los medios de pago  hoy fui a falabella de vina el cual tengo un gran cupo con cmr y cupo con metodo de pago cheque y    ..\n",
      "me cagaron la navidad y la sorpresa para mi hijo    me mandan un paquete con una bici que compre y resulta que vienen con los datos correctos y cuando la preparaba para dejarla en el arbol    me doy cuenta que no es la que pedi..\n",
      "hay algo peor que el servicio a cliente de falabella?  nunca saben nada y atienden horrible  llevo mas de una semana tratando de saber cuando me llegara lo comprado  y esta gente de falabella no tienen respuesta  asi que no me queda otra que poner demanda a sernac..\n",
      "pueden dejar de acosarme con sus llamadas  ya me tiene chata que con distintos numeros me siguan llamando a pesar de decir que no soy la persona que buscan  mas encima lo hacen con una ia que con suerte escucha ..\n",
      "mi pareja y yo queremos el regalo de nuestra hija son unos ctm el weon que escribe en esta wea que de una respuesta bien no spam ojala se vallan a la quiebra ya po tomen carta en el asunto no somos dos ni tres somos mucho queremos nuestros productos..\n",
      "llevo mas de 20 dias esperando la confirmacion de una compra  que solo se distribuye por uds  como es posible que no se hagan cargo si uds prestan la plataforma para venta de terceros  minimo respaldar la compra de usuario!..\n",
      "que pesimo servicio que tienen con la fusion de las empresas  necesito saber por una nota de credito y me han paseado entre sodimac y falabella sin una cara visible que maneje el tema impresentable nadie sabe como funciona!!! urgente necesito que me contacten..\n",
      "me cancelaron un producto  sin avisarme ni preguntar  era el regalo de navidad de mi hijo  mi bebe se va a quedar sin su regalo por culpa de ustedes! como pueden jugar con la gente en estas fechas tan delicadas!! exijo que llegue mi producto!!..\n",
      "estimados por segunda vez compro por internet en falabella y la primera zapatilla no parecia nike por las malas terminaciones  me hicieron ir a la tienda a cambiarla pero en el local no hay nada  por lo que me devolvieron el dinero ..\n",
      "que pasa con las compras online que llegan descaradamente malas  compre un reloj en promocion que solo me provoco pasar verguenza  fue online porque no puedo ir al mall    y ahora? para cambiarlo? no puedo ir presencial y menos sin saber donde esta el producto..\n"
     ]
    }
   ],
   "source": [
    "lsa_score_indices = Summarize.LSA_summary(A, 10)\n",
    "lsa_results = [tweets[idx] for idx in lsa_score_indices]\n",
    "for sentence in lsa_results:\n",
    "    print(sentence)"
   ]
  },
  {
   "cell_type": "code",
   "execution_count": null,
   "metadata": {},
   "outputs": [],
   "source": []
  }
 ],
 "metadata": {
  "kernelspec": {
   "display_name": "env",
   "language": "python",
   "name": "python3"
  },
  "language_info": {
   "codemirror_mode": {
    "name": "ipython",
    "version": 3
   },
   "file_extension": ".py",
   "mimetype": "text/x-python",
   "name": "python",
   "nbconvert_exporter": "python",
   "pygments_lexer": "ipython3",
   "version": "3.8.10"
  },
  "orig_nbformat": 4,
  "vscode": {
   "interpreter": {
    "hash": "e95f38e479709bf2e64305c06c60d84abc8c78a6dc11795e98ec1510042d1042"
   }
  }
 },
 "nbformat": 4,
 "nbformat_minor": 2
}
